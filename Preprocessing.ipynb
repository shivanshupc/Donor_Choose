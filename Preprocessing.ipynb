{
 "cells": [
  {
   "cell_type": "code",
   "execution_count": 2,
   "metadata": {},
   "outputs": [],
   "source": [
    "%matplotlib inline\n",
    "import warnings\n",
    "warnings.filterwarnings(\"ignore\")\n",
    "\n",
    "import pandas as pd\n",
    "import numpy as np\n",
    "from sklearn.feature_extraction.text import TfidfVectorizer\n",
    "from sklearn.feature_extraction.text import CountVectorizer\n",
    "import re\n",
    "from nltk.corpus import stopwords\n",
    "import pickle\n",
    "\n",
    "from tqdm import tqdm\n",
    "import os"
   ]
  },
  {
   "cell_type": "markdown",
   "metadata": {},
   "source": [
    "# Reading Data"
   ]
  },
  {
   "cell_type": "code",
   "execution_count": 3,
   "metadata": {},
   "outputs": [],
   "source": [
    "project_data = pd.read_csv('train_data.csv', nrows=5000)\n",
    "resource_data = pd.read_csv('resources.csv')"
   ]
  },
  {
   "cell_type": "code",
   "execution_count": 4,
   "metadata": {},
   "outputs": [
    {
     "name": "stdout",
     "output_type": "stream",
     "text": [
      "Number of data points in train data (5000, 17)\n",
      "----------------------------------------------------------------------------------------------------\n",
      "The attributes of data : ['Unnamed: 0' 'id' 'teacher_id' 'teacher_prefix' 'school_state'\n",
      " 'project_submitted_datetime' 'project_grade_category'\n",
      " 'project_subject_categories' 'project_subject_subcategories'\n",
      " 'project_title' 'project_essay_1' 'project_essay_2' 'project_essay_3'\n",
      " 'project_essay_4' 'project_resource_summary'\n",
      " 'teacher_number_of_previously_posted_projects' 'project_is_approved']\n"
     ]
    }
   ],
   "source": [
    "print(\"Number of data points in train data\", project_data.shape)\n",
    "print('-'*100)\n",
    "print(\"The attributes of data :\", project_data.columns.values)"
   ]
  },
  {
   "cell_type": "code",
   "execution_count": 6,
   "metadata": {},
   "outputs": [
    {
     "name": "stdout",
     "output_type": "stream",
     "text": [
      "Number of data points in train data (1541272, 4)\n",
      "----------------------------------------------------------------------------------------------------\n",
      "['id' 'description' 'quantity' 'price']\n"
     ]
    },
    {
     "data": {
      "text/html": [
       "<div>\n",
       "<style scoped>\n",
       "    .dataframe tbody tr th:only-of-type {\n",
       "        vertical-align: middle;\n",
       "    }\n",
       "\n",
       "    .dataframe tbody tr th {\n",
       "        vertical-align: top;\n",
       "    }\n",
       "\n",
       "    .dataframe thead th {\n",
       "        text-align: right;\n",
       "    }\n",
       "</style>\n",
       "<table border=\"1\" class=\"dataframe\">\n",
       "  <thead>\n",
       "    <tr style=\"text-align: right;\">\n",
       "      <th></th>\n",
       "      <th>id</th>\n",
       "      <th>description</th>\n",
       "      <th>quantity</th>\n",
       "      <th>price</th>\n",
       "    </tr>\n",
       "  </thead>\n",
       "  <tbody>\n",
       "    <tr>\n",
       "      <th>0</th>\n",
       "      <td>p233245</td>\n",
       "      <td>LC652 - Lakeshore Double-Space Mobile Drying Rack</td>\n",
       "      <td>1</td>\n",
       "      <td>149.00</td>\n",
       "    </tr>\n",
       "    <tr>\n",
       "      <th>1</th>\n",
       "      <td>p069063</td>\n",
       "      <td>Bouncy Bands for Desks (Blue support pipes)</td>\n",
       "      <td>3</td>\n",
       "      <td>14.95</td>\n",
       "    </tr>\n",
       "  </tbody>\n",
       "</table>\n",
       "</div>"
      ],
      "text/plain": [
       "        id                                        description  quantity  \\\n",
       "0  p233245  LC652 - Lakeshore Double-Space Mobile Drying Rack         1   \n",
       "1  p069063        Bouncy Bands for Desks (Blue support pipes)         3   \n",
       "\n",
       "    price  \n",
       "0  149.00  \n",
       "1   14.95  "
      ]
     },
     "execution_count": 6,
     "metadata": {},
     "output_type": "execute_result"
    }
   ],
   "source": [
    "print(\"Number of data points in train data\", resource_data.shape)\n",
    "print('-'*100)\n",
    "print(resource_data.columns.values)\n",
    "resource_data.head(2)"
   ]
  },
  {
   "cell_type": "markdown",
   "metadata": {},
   "source": [
    "## __Preprocessing Categorical Features: project_grade_category__"
   ]
  },
  {
   "cell_type": "code",
   "execution_count": 7,
   "metadata": {},
   "outputs": [
    {
     "data": {
      "text/plain": [
       "Grades PreK-2    2002\n",
       "Grades 3-5       1729\n",
       "Grades 6-8        785\n",
       "Grades 9-12       484\n",
       "Name: project_grade_category, dtype: int64"
      ]
     },
     "execution_count": 7,
     "metadata": {},
     "output_type": "execute_result"
    }
   ],
   "source": [
    "project_data['project_grade_category'].value_counts()"
   ]
  },
  {
   "cell_type": "markdown",
   "metadata": {},
   "source": [
    "- we need to remove the spaces, replace the '-' with '_' and convert all the letters to small"
   ]
  },
  {
   "cell_type": "code",
   "execution_count": 8,
   "metadata": {},
   "outputs": [
    {
     "data": {
      "text/plain": [
       "grades_prek_2    2002\n",
       "grades_3_5       1729\n",
       "grades_6_8        785\n",
       "grades_9_12       484\n",
       "Name: project_grade_category, dtype: int64"
      ]
     },
     "execution_count": 8,
     "metadata": {},
     "output_type": "execute_result"
    }
   ],
   "source": [
    "# https://stackoverflow.com/questions/36383821/pandas-dataframe-apply-function-to-column-strings-based-on-other-column-value\n",
    "project_data['project_grade_category'] = project_data['project_grade_category'].str.replace(' ','_')\n",
    "project_data['project_grade_category'] = project_data['project_grade_category'].str.replace('-','_')\n",
    "project_data['project_grade_category'] = project_data['project_grade_category'].str.lower()\n",
    "project_data['project_grade_category'].value_counts()"
   ]
  },
  {
   "cell_type": "markdown",
   "metadata": {},
   "source": [
    "## __Preprocessing Categorical Features: project_subject_categories__"
   ]
  },
  {
   "cell_type": "code",
   "execution_count": 9,
   "metadata": {},
   "outputs": [
    {
     "data": {
      "text/plain": [
       "Literacy & Language                           1067\n",
       "Math & Science                                 795\n",
       "Literacy & Language, Math & Science            679\n",
       "Health & Sports                                509\n",
       "Music & The Arts                               233\n",
       "Literacy & Language, Special Needs             207\n",
       "Applied Learning                               164\n",
       "Special Needs                                  162\n",
       "Math & Science, Literacy & Language            101\n",
       "Applied Learning, Literacy & Language           97\n",
       "Math & Science, Special Needs                   80\n",
       "Applied Learning, Special Needs                 80\n",
       "Literacy & Language, Music & The Arts           79\n",
       "Math & Science, Music & The Arts                76\n",
       "History & Civics, Literacy & Language           65\n",
       "History & Civics                                63\n",
       "Health & Sports, Special Needs                  57\n",
       "Warmth, Care & Hunger                           53\n",
       "Math & Science, Applied Learning                52\n",
       "Applied Learning, Math & Science                44\n",
       "Literacy & Language, History & Civics           40\n",
       "Health & Sports, Literacy & Language            40\n",
       "Applied Learning, Music & The Arts              39\n",
       "Applied Learning, Health & Sports               29\n",
       "Literacy & Language, Applied Learning           24\n",
       "Math & Science, History & Civics                24\n",
       "Math & Science, Health & Sports                 23\n",
       "History & Civics, Math & Science                21\n",
       "History & Civics, Music & The Arts              17\n",
       "Health & Sports, Math & Science                 15\n",
       "Special Needs, Music & The Arts                 13\n",
       "Health & Sports, Applied Learning                8\n",
       "Health & Sports, Music & The Arts                8\n",
       "History & Civics, Special Needs                  8\n",
       "Applied Learning, History & Civics               6\n",
       "Music & The Arts, Special Needs                  6\n",
       "Health & Sports, History & Civics                3\n",
       "Health & Sports, Warmth, Care & Hunger           2\n",
       "Music & The Arts, History & Civics               2\n",
       "History & Civics, Applied Learning               2\n",
       "Literacy & Language, Warmth, Care & Hunger       1\n",
       "Music & The Arts, Health & Sports                1\n",
       "Music & The Arts, Warmth, Care & Hunger          1\n",
       "Special Needs, Health & Sports                   1\n",
       "History & Civics, Health & Sports                1\n",
       "Music & The Arts, Applied Learning               1\n",
       "Applied Learning, Warmth, Care & Hunger          1\n",
       "Name: project_subject_categories, dtype: int64"
      ]
     },
     "execution_count": 9,
     "metadata": {},
     "output_type": "execute_result"
    }
   ],
   "source": [
    "project_data['project_subject_categories'].value_counts()"
   ]
  },
  {
   "cell_type": "code",
   "execution_count": 10,
   "metadata": {},
   "outputs": [
    {
     "data": {
      "text/plain": [
       "literacy_language                       1067\n",
       "math_science                             795\n",
       "literacy_language_math_science           679\n",
       "health_sports                            509\n",
       "music_arts                               233\n",
       "literacy_language_specialneeds           207\n",
       "appliedlearning                          164\n",
       "specialneeds                             162\n",
       "math_science_literacy_language           101\n",
       "appliedlearning_literacy_language         97\n",
       "math_science_specialneeds                 80\n",
       "appliedlearning_specialneeds              80\n",
       "literacy_language_music_arts              79\n",
       "math_science_music_arts                   76\n",
       "history_civics_literacy_language          65\n",
       "history_civics                            63\n",
       "health_sports_specialneeds                57\n",
       "warmth_care_hunger                        53\n",
       "math_science_appliedlearning              52\n",
       "appliedlearning_math_science              44\n",
       "literacy_language_history_civics          40\n",
       "health_sports_literacy_language           40\n",
       "appliedlearning_music_arts                39\n",
       "appliedlearning_health_sports             29\n",
       "literacy_language_appliedlearning         24\n",
       "math_science_history_civics               24\n",
       "math_science_health_sports                23\n",
       "history_civics_math_science               21\n",
       "history_civics_music_arts                 17\n",
       "health_sports_math_science                15\n",
       "specialneeds_music_arts                   13\n",
       "health_sports_appliedlearning              8\n",
       "health_sports_music_arts                   8\n",
       "history_civics_specialneeds                8\n",
       "appliedlearning_history_civics             6\n",
       "music_arts_specialneeds                    6\n",
       "health_sports_history_civics               3\n",
       "health_sports_warmth_care_hunger           2\n",
       "music_arts_history_civics                  2\n",
       "history_civics_appliedlearning             2\n",
       "literacy_language_warmth_care_hunger       1\n",
       "music_arts_health_sports                   1\n",
       "music_arts_warmth_care_hunger              1\n",
       "specialneeds_health_sports                 1\n",
       "history_civics_health_sports               1\n",
       "music_arts_appliedlearning                 1\n",
       "appliedlearning_warmth_care_hunger         1\n",
       "Name: project_subject_categories, dtype: int64"
      ]
     },
     "execution_count": 10,
     "metadata": {},
     "output_type": "execute_result"
    }
   ],
   "source": [
    "project_data['project_subject_categories'] = project_data['project_subject_categories'].str.replace(' The ','')\n",
    "project_data['project_subject_categories'] = project_data['project_subject_categories'].str.replace(' ','')\n",
    "project_data['project_subject_categories'] = project_data['project_subject_categories'].str.replace('&','_')\n",
    "project_data['project_subject_categories'] = project_data['project_subject_categories'].str.replace(',','_')\n",
    "project_data['project_subject_categories'] = project_data['project_subject_categories'].str.lower()\n",
    "project_data['project_subject_categories'].value_counts()"
   ]
  },
  {
   "cell_type": "markdown",
   "metadata": {},
   "source": [
    "## __Preprocessing Categorical Features: teacher_prefix__"
   ]
  },
  {
   "cell_type": "code",
   "execution_count": 11,
   "metadata": {},
   "outputs": [
    {
     "data": {
      "text/plain": [
       "Mrs.       2560\n",
       "Ms.        1845\n",
       "Mr.         495\n",
       "Teacher     100\n",
       "Name: teacher_prefix, dtype: int64"
      ]
     },
     "execution_count": 11,
     "metadata": {},
     "output_type": "execute_result"
    }
   ],
   "source": [
    "project_data['teacher_prefix'].value_counts()"
   ]
  },
  {
   "cell_type": "code",
   "execution_count": 12,
   "metadata": {},
   "outputs": [
    {
     "name": "stdout",
     "output_type": "stream",
     "text": [
      "False\n",
      "number of nan values 0\n"
     ]
    }
   ],
   "source": [
    "# check if we have any nan values are there\n",
    "print(project_data['teacher_prefix'].isnull().values.any())\n",
    "print(\"number of nan values\",project_data['teacher_prefix'].isnull().values.sum())"
   ]
  },
  {
   "cell_type": "code",
   "execution_count": 13,
   "metadata": {},
   "outputs": [
    {
     "data": {
      "text/plain": [
       "mrs        2560\n",
       "ms         1845\n",
       "mr          495\n",
       "teacher     100\n",
       "Name: teacher_prefix, dtype: int64"
      ]
     },
     "execution_count": 13,
     "metadata": {},
     "output_type": "execute_result"
    }
   ],
   "source": [
    "project_data['teacher_prefix'] = project_data['teacher_prefix'].str.replace('.','')\n",
    "project_data['teacher_prefix'] = project_data['teacher_prefix'].str.lower()\n",
    "project_data['teacher_prefix'].value_counts()"
   ]
  },
  {
   "cell_type": "markdown",
   "metadata": {},
   "source": [
    "## __Preprocessing Categorical Features: project_subject_subcategories__"
   ]
  },
  {
   "cell_type": "code",
   "execution_count": 14,
   "metadata": {},
   "outputs": [
    {
     "data": {
      "text/plain": [
       "Literacy                                      449\n",
       "Literacy, Mathematics                         368\n",
       "Literature & Writing, Mathematics             293\n",
       "Literacy, Literature & Writing                234\n",
       "Mathematics                                   232\n",
       "                                             ... \n",
       "Extracurricular, Literature & Writing           1\n",
       "Community Service, Gym & Fitness                1\n",
       "Community Service, Literature & Writing         1\n",
       "Civics & Government, Extracurricular            1\n",
       "Character Education, Warmth, Care & Hunger      1\n",
       "Name: project_subject_subcategories, Length: 248, dtype: int64"
      ]
     },
     "execution_count": 14,
     "metadata": {},
     "output_type": "execute_result"
    }
   ],
   "source": [
    "project_data['project_subject_subcategories'].value_counts()"
   ]
  },
  {
   "cell_type": "code",
   "execution_count": 15,
   "metadata": {},
   "outputs": [
    {
     "data": {
      "text/plain": [
       "literacy                                 449\n",
       "literacy_mathematics                     368\n",
       "literature_writing_mathematics           293\n",
       "literacy_literature_writing              234\n",
       "mathematics                              232\n",
       "                                        ... \n",
       "extracurricular_literature_writing         1\n",
       "communityservice_gym_fitness               1\n",
       "communityservice_literature_writing        1\n",
       "civics_government_extracurricular          1\n",
       "charactereducation_warmth_care_hunger      1\n",
       "Name: project_subject_subcategories, Length: 248, dtype: int64"
      ]
     },
     "execution_count": 15,
     "metadata": {},
     "output_type": "execute_result"
    }
   ],
   "source": [
    "project_data['project_subject_subcategories'] = project_data['project_subject_subcategories'].str.replace(' The ','')\n",
    "project_data['project_subject_subcategories'] = project_data['project_subject_subcategories'].str.replace(' ','')\n",
    "project_data['project_subject_subcategories'] = project_data['project_subject_subcategories'].str.replace('&','_')\n",
    "project_data['project_subject_subcategories'] = project_data['project_subject_subcategories'].str.replace(',','_')\n",
    "project_data['project_subject_subcategories'] = project_data['project_subject_subcategories'].str.lower()\n",
    "project_data['project_subject_subcategories'].value_counts()"
   ]
  },
  {
   "cell_type": "markdown",
   "metadata": {},
   "source": [
    "## __Preprocessing Categorical Features: school_state__"
   ]
  },
  {
   "cell_type": "code",
   "execution_count": 16,
   "metadata": {},
   "outputs": [
    {
     "data": {
      "text/plain": [
       "CA    707\n",
       "TX    352\n",
       "NY    342\n",
       "FL    261\n",
       "NC    246\n",
       "SC    191\n",
       "IL    184\n",
       "GA    164\n",
       "PA    151\n",
       "MI    151\n",
       "OH    122\n",
       "OK    120\n",
       "MO    117\n",
       "MA    115\n",
       "LA    114\n",
       "IN    113\n",
       "NJ     99\n",
       "AZ     99\n",
       "WA     97\n",
       "VA     90\n",
       "TN     85\n",
       "AL     84\n",
       "CT     78\n",
       "UT     76\n",
       "WI     72\n",
       "MD     69\n",
       "OR     64\n",
       "KY     59\n",
       "CO     58\n",
       "NV     53\n",
       "AR     52\n",
       "MN     48\n",
       "MS     46\n",
       "KS     30\n",
       "ID     29\n",
       "IA     29\n",
       "HI     28\n",
       "DC     23\n",
       "NM     22\n",
       "WV     21\n",
       "ME     19\n",
       "NE     19\n",
       "AK     17\n",
       "SD     16\n",
       "RI     16\n",
       "NH     13\n",
       "ND     11\n",
       "DE     11\n",
       "WY      9\n",
       "MT      6\n",
       "VT      2\n",
       "Name: school_state, dtype: int64"
      ]
     },
     "execution_count": 16,
     "metadata": {},
     "output_type": "execute_result"
    }
   ],
   "source": [
    "project_data['school_state'].value_counts()"
   ]
  },
  {
   "cell_type": "code",
   "execution_count": 17,
   "metadata": {},
   "outputs": [
    {
     "data": {
      "text/plain": [
       "ca    707\n",
       "tx    352\n",
       "ny    342\n",
       "fl    261\n",
       "nc    246\n",
       "sc    191\n",
       "il    184\n",
       "ga    164\n",
       "pa    151\n",
       "mi    151\n",
       "oh    122\n",
       "ok    120\n",
       "mo    117\n",
       "ma    115\n",
       "la    114\n",
       "in    113\n",
       "nj     99\n",
       "az     99\n",
       "wa     97\n",
       "va     90\n",
       "tn     85\n",
       "al     84\n",
       "ct     78\n",
       "ut     76\n",
       "wi     72\n",
       "md     69\n",
       "or     64\n",
       "ky     59\n",
       "co     58\n",
       "nv     53\n",
       "ar     52\n",
       "mn     48\n",
       "ms     46\n",
       "ks     30\n",
       "id     29\n",
       "ia     29\n",
       "hi     28\n",
       "dc     23\n",
       "nm     22\n",
       "wv     21\n",
       "me     19\n",
       "ne     19\n",
       "ak     17\n",
       "sd     16\n",
       "ri     16\n",
       "nh     13\n",
       "nd     11\n",
       "de     11\n",
       "wy      9\n",
       "mt      6\n",
       "vt      2\n",
       "Name: school_state, dtype: int64"
      ]
     },
     "execution_count": 17,
     "metadata": {},
     "output_type": "execute_result"
    }
   ],
   "source": [
    "project_data['school_state'] = project_data['school_state'].str.lower()\n",
    "project_data['school_state'].value_counts()"
   ]
  },
  {
   "cell_type": "markdown",
   "metadata": {},
   "source": [
    "## __Preprocessing Categorical Features: project_title__"
   ]
  },
  {
   "cell_type": "code",
   "execution_count": 18,
   "metadata": {},
   "outputs": [],
   "source": [
    "# https://stackoverflow.com/a/47091490/4084039\n",
    "import re\n",
    "\n",
    "def decontracted(phrase):\n",
    "    # specific\n",
    "    phrase = re.sub(r\"won't\", \"will not\", phrase)\n",
    "    phrase = re.sub(r\"can\\'t\", \"can not\", phrase)\n",
    "\n",
    "    # general\n",
    "    phrase = re.sub(r\"n\\'t\", \" not\", phrase)\n",
    "    phrase = re.sub(r\"\\'re\", \" are\", phrase)\n",
    "    phrase = re.sub(r\"\\'s\", \" is\", phrase)\n",
    "    phrase = re.sub(r\"\\'d\", \" would\", phrase)\n",
    "    phrase = re.sub(r\"\\'ll\", \" will\", phrase)\n",
    "    phrase = re.sub(r\"\\'t\", \" not\", phrase)\n",
    "    phrase = re.sub(r\"\\'ve\", \" have\", phrase)\n",
    "    phrase = re.sub(r\"\\'m\", \" am\", phrase)\n",
    "    return phrase"
   ]
  },
  {
   "cell_type": "code",
   "execution_count": 19,
   "metadata": {},
   "outputs": [],
   "source": [
    "# https://gist.github.com/sebleier/554280\n",
    "# we are removing the words from the stop words list: 'no', 'nor', 'not'\n",
    "stopwords= ['i', 'me', 'my', 'myself', 'we', 'our', 'ours', 'ourselves', 'you', \"you're\", \"you've\",\\\n",
    "            \"you'll\", \"you'd\", 'your', 'yours', 'yourself', 'yourselves', 'he', 'him', 'his', 'himself', \\\n",
    "            'she', \"she's\", 'her', 'hers', 'herself', 'it', \"it's\", 'its', 'itself', 'they', 'them', 'their',\\\n",
    "            'theirs', 'themselves', 'what', 'which', 'who', 'whom', 'this', 'that', \"that'll\", 'these', 'those', \\\n",
    "            'am', 'is', 'are', 'was', 'were', 'be', 'been', 'being', 'have', 'has', 'had', 'having', 'do', 'does', \\\n",
    "            'did', 'doing', 'a', 'an', 'the', 'and', 'but', 'if', 'or', 'because', 'as', 'until', 'while', 'of', \\\n",
    "            'at', 'by', 'for', 'with', 'about', 'against', 'between', 'into', 'through', 'during', 'before', 'after',\\\n",
    "            'above', 'below', 'to', 'from', 'up', 'down', 'in', 'out', 'on', 'off', 'over', 'under', 'again', 'further',\\\n",
    "            'then', 'once', 'here', 'there', 'when', 'where', 'why', 'how', 'all', 'any', 'both', 'each', 'few', 'more',\\\n",
    "            'most', 'other', 'some', 'such', 'only', 'own', 'same', 'so', 'than', 'too', 'very', \\\n",
    "            's', 't', 'can', 'will', 'just', 'don', \"don't\", 'should', \"should've\", 'now', 'd', 'll', 'm', 'o', 're', \\\n",
    "            've', 'y', 'ain', 'aren', \"aren't\", 'couldn', \"couldn't\", 'didn', \"didn't\", 'doesn', \"doesn't\", 'hadn',\\\n",
    "            \"hadn't\", 'hasn', \"hasn't\", 'haven', \"haven't\", 'isn', \"isn't\", 'ma', 'mightn', \"mightn't\", 'mustn',\\\n",
    "            \"mustn't\", 'needn', \"needn't\", 'shan', \"shan't\", 'shouldn', \"shouldn't\", 'wasn', \"wasn't\", 'weren', \"weren't\", \\\n",
    "            'won', \"won't\", 'wouldn', \"wouldn't\"]"
   ]
  },
  {
   "cell_type": "code",
   "execution_count": 20,
   "metadata": {},
   "outputs": [],
   "source": [
    "# Combining all the above stundents \n",
    "from tqdm import tqdm\n",
    "def preprocess_text(text_data):\n",
    "    preprocessed_text = []\n",
    "    # tqdm is for printing the status bar\n",
    "    for sentance in tqdm(text_data):\n",
    "        sent = decontracted(sentance)\n",
    "        sent = sent.replace('\\\\r', ' ')\n",
    "        sent = sent.replace('\\\\n', ' ')\n",
    "        sent = sent.replace('\\\\\"', ' ')\n",
    "        sent = re.sub('[^A-Za-z0-9]+', ' ', sent)\n",
    "        # https://gist.github.com/sebleier/554280\n",
    "        sent = ' '.join(e for e in sent.split() if e.lower() not in stopwords)\n",
    "        preprocessed_text.append(sent.lower().strip())\n",
    "    return preprocessed_text"
   ]
  },
  {
   "cell_type": "code",
   "execution_count": 21,
   "metadata": {},
   "outputs": [
    {
     "name": "stderr",
     "output_type": "stream",
     "text": [
      "100%|██████████| 5000/5000 [00:00<00:00, 42038.72it/s]\n"
     ]
    }
   ],
   "source": [
    "preprocessed_titles = preprocess_text(project_data['project_title'].values)"
   ]
  },
  {
   "cell_type": "code",
   "execution_count": 22,
   "metadata": {},
   "outputs": [
    {
     "name": "stdout",
     "output_type": "stream",
     "text": [
      "printing some random reviews\n",
      "9 love reading pure pleasure\n",
      "34 ball\n",
      "147 needs chromebook\n"
     ]
    }
   ],
   "source": [
    "print(\"printing some random reviews\")\n",
    "print(9, preprocessed_titles[9])\n",
    "print(34, preprocessed_titles[34])\n",
    "print(147, preprocessed_titles[147])"
   ]
  },
  {
   "cell_type": "markdown",
   "metadata": {},
   "source": [
    "## __Preprocessing Categorical Features: essay__"
   ]
  },
  {
   "cell_type": "code",
   "execution_count": 23,
   "metadata": {},
   "outputs": [],
   "source": [
    "# merge two column text dataframe: \n",
    "project_data[\"essay\"] = project_data[\"project_essay_1\"].map(str) +\\\n",
    "                        project_data[\"project_essay_2\"].map(str) + \\\n",
    "                        project_data[\"project_essay_3\"].map(str) + \\\n",
    "                        project_data[\"project_essay_4\"].map(str)"
   ]
  },
  {
   "cell_type": "code",
   "execution_count": 24,
   "metadata": {},
   "outputs": [
    {
     "name": "stdout",
     "output_type": "stream",
     "text": [
      "printing some random essay\n",
      "9 Over 95% of my students are on free or reduced lunch.  I have a few who are homeless, but despite that, they come to school with an eagerness to learn.  My students are inquisitive eager learners who  embrace the challenge of not having great books and other resources  every day.  Many of them are not afforded the opportunity to engage with these big colorful pages of a book on a regular basis at home and they don't travel to the public library.  \\r\\nIt is my duty as a teacher to do all I can to provide each student an opportunity to succeed in every aspect of life. \\r\\nReading is Fundamental! My students will read these books over and over again while boosting their comprehension skills. These books will be used for read alouds, partner reading and for Independent reading. \\r\\nThey will engage in reading to build their \\\"Love for Reading\\\" by reading for pure enjoyment. They will be introduced to some new authors as well as some old favorites. I want my students to be ready for the 21st Century and know the pleasure of holding a good hard back book in hand. There's nothing like a good book to read!  \\r\\nMy students will soar in Reading, and more because of your consideration and generous funding contribution. This will help build stamina and prepare for 3rd grade. Thank you so much for reading our proposal!nannan\n",
      "--------------------------------------------------\n",
      "34 My students mainly come from extremely low-income families, and the majority of them come from homes where both parents work full time. Most of my students are at school from 7:30 am to 6:00 pm (2:30 to 6:00 pm in the after-school program), and they all receive free and reduced meals for breakfast and lunch. \\r\\n\\r\\n\\r\\nI want my students to feel  as comfortable in my classroom as they do at home. Many of my students take on multiple roles both at home as well as in school. They are sometimes the caretakers of younger siblings, cooks, babysitters, academics, friends, and most of all, they are developing who they are going to become as adults.  I consider it an essential part of my job to model helping others gain knowledge in a positive manner. As a result, I have a community of students who love helping each other in and outside of the classroom. They consistently look for opportunities to support each other's learning in a kind and helpful way.I am excited to be experimenting with alternative seating in my classroom this school year. Studies have shown that giving students the option of where they sit in a classroom increases focus as well as motivation.  \\r\\n\\r\\nBy allowing students choice in the classroom, they are able to explore and create in a welcoming environment. Alternative classroom seating has been experimented with more frequently in recent years. I believe (along with many others), that every child learns differently. This does not only apply to how multiplication is memorized, or a paper is written, but applies to the space in which they are asked to work. I have had students in the past ask \\\"Can I work in the library? Can I work on the carpet?\\\" My answer was always, \\\"As long as you're learning, you can work wherever you want!\\\" \\r\\n\\r\\nWith the yoga balls and the lap-desks, I will be able to increase the options for seating in my classroom and expand its imaginable space.nannan\n",
      "--------------------------------------------------\n",
      "147 My students are eager to learn and make their mark on the world.\\r\\n\\r\\nThey come from a Title 1 school and need extra love.\\r\\n\\r\\nMy fourth grade students are in a high poverty area and still come to school every day to get their education. I am trying to make it fun and educational for them so they can get the most out of their schooling. I created a caring environment for the students to bloom! They deserve the best.\\r\\nThank you!\\r\\nI am requesting 1 Chromebook to access online interventions, differentiate instruction, and get extra practice. The Chromebook will be used to supplement ELA and math instruction. Students will play ELA and math games that are engaging and fun, as well as participate in assignments online. This in turn will help my students improve their skills. Having a Chromebook in the classroom would not only allow students to use the programs at their own pace, but would ensure more students are getting adequate time to use the programs. The online programs have been especially beneficial to my students with special needs. They are able to work at their level as well as be challenged with some different materials. This is making these students more confident in their abilities.\\r\\n\\r\\nThe Chromebook would allow my students to have daily access to computers and increase their computing skills.\\r\\nThis will change their lives for the better as they become more successful in school. Having access to technology in the classroom would help bridge the achievement gap.nannan\n"
     ]
    }
   ],
   "source": [
    "print(\"printing some random essay\")\n",
    "print(9, project_data['essay'].values[9])\n",
    "print('-'*50)\n",
    "print(34, project_data['essay'].values[34])\n",
    "print('-'*50)\n",
    "print(147, project_data['essay'].values[147])"
   ]
  },
  {
   "cell_type": "code",
   "execution_count": 25,
   "metadata": {},
   "outputs": [
    {
     "name": "stderr",
     "output_type": "stream",
     "text": [
      "100%|██████████| 5000/5000 [00:02<00:00, 1995.76it/s]\n"
     ]
    }
   ],
   "source": [
    "preprocessed_essays = preprocess_text(project_data['essay'].values)"
   ]
  },
  {
   "cell_type": "code",
   "execution_count": 26,
   "metadata": {},
   "outputs": [
    {
     "name": "stdout",
     "output_type": "stream",
     "text": [
      "printing some random essay\n",
      "9 95 students free reduced lunch homeless despite come school eagerness learn students inquisitive eager learners embrace challenge not great books resources every day many not afforded opportunity engage big colorful pages book regular basis home not travel public library duty teacher provide student opportunity succeed every aspect life reading fundamental students read books boosting comprehension skills books used read alouds partner reading independent reading engage reading build love reading reading pure enjoyment introduced new authors well old favorites want students ready 21st century know pleasure holding good hard back book hand nothing like good book read students soar reading consideration generous funding contribution help build stamina prepare 3rd grade thank much reading proposal nannan\n",
      "--------------------------------------------------\n",
      "34 students mainly come extremely low income families majority come homes parents work full time students school 7 30 6 00 pm 2 30 6 00 pm school program receive free reduced meals breakfast lunch want students feel comfortable classroom home many students take multiple roles home well school sometimes caretakers younger siblings cooks babysitters academics friends developing going become adults consider essential part job model helping others gain knowledge positive manner result community students love helping outside classroom consistently look opportunities support learning kind helpful way excited experimenting alternative seating classroom school year studies shown giving students option sit classroom increases focus well motivation allowing students choice classroom able explore create welcoming environment alternative classroom seating experimented frequently recent years believe along many others every child learns differently not apply multiplication memorized paper written applies space asked work students past ask work library work carpet answer always long learning work wherever want yoga balls lap desks able increase options seating classroom expand imaginable space nannan\n",
      "--------------------------------------------------\n",
      "147 students eager learn make mark world come title 1 school need extra love fourth grade students high poverty area still come school every day get education trying make fun educational get schooling created caring environment students bloom deserve best thank requesting 1 chromebook access online interventions differentiate instruction get extra practice chromebook used supplement ela math instruction students play ela math games engaging fun well participate assignments online turn help students improve skills chromebook classroom would not allow students use programs pace would ensure students getting adequate time use programs online programs especially beneficial students special needs able work level well challenged different materials making students confident abilities chromebook would allow students daily access computers increase computing skills change lives better become successful school access technology classroom would help bridge achievement gap nannan\n"
     ]
    }
   ],
   "source": [
    "print(\"printing some random essay\")\n",
    "print(9, preprocessed_essays[9])\n",
    "print('-'*50)\n",
    "print(34, preprocessed_essays[34])\n",
    "print('-'*50)\n",
    "print(147, preprocessed_essays[147])"
   ]
  },
  {
   "cell_type": "markdown",
   "metadata": {},
   "source": [
    "## __Preprocessing Numerical Values: price__"
   ]
  },
  {
   "cell_type": "code",
   "execution_count": 27,
   "metadata": {},
   "outputs": [
    {
     "data": {
      "text/html": [
       "<div>\n",
       "<style scoped>\n",
       "    .dataframe tbody tr th:only-of-type {\n",
       "        vertical-align: middle;\n",
       "    }\n",
       "\n",
       "    .dataframe tbody tr th {\n",
       "        vertical-align: top;\n",
       "    }\n",
       "\n",
       "    .dataframe thead th {\n",
       "        text-align: right;\n",
       "    }\n",
       "</style>\n",
       "<table border=\"1\" class=\"dataframe\">\n",
       "  <thead>\n",
       "    <tr style=\"text-align: right;\">\n",
       "      <th></th>\n",
       "      <th>id</th>\n",
       "      <th>price</th>\n",
       "      <th>quantity</th>\n",
       "    </tr>\n",
       "  </thead>\n",
       "  <tbody>\n",
       "    <tr>\n",
       "      <th>0</th>\n",
       "      <td>p000001</td>\n",
       "      <td>459.56</td>\n",
       "      <td>7</td>\n",
       "    </tr>\n",
       "    <tr>\n",
       "      <th>1</th>\n",
       "      <td>p000002</td>\n",
       "      <td>515.89</td>\n",
       "      <td>21</td>\n",
       "    </tr>\n",
       "  </tbody>\n",
       "</table>\n",
       "</div>"
      ],
      "text/plain": [
       "        id   price  quantity\n",
       "0  p000001  459.56         7\n",
       "1  p000002  515.89        21"
      ]
     },
     "execution_count": 27,
     "metadata": {},
     "output_type": "execute_result"
    }
   ],
   "source": [
    "# https://stackoverflow.com/questions/22407798/how-to-reset-a-dataframes-indexes-for-all-groups-in-one-step\n",
    "price_data = resource_data.groupby('id').agg({'price':'sum', 'quantity':'sum'}).reset_index()\n",
    "price_data.head(2)"
   ]
  },
  {
   "cell_type": "code",
   "execution_count": 28,
   "metadata": {},
   "outputs": [],
   "source": [
    "# join two dataframes in python: \n",
    "project_data = pd.merge(project_data, price_data, on='id', how='left')"
   ]
  },
  {
   "cell_type": "markdown",
   "metadata": {},
   "source": [
    "## Applying StandardScaler"
   ]
  },
  {
   "cell_type": "code",
   "execution_count": 29,
   "metadata": {},
   "outputs": [],
   "source": [
    "from sklearn.preprocessing import StandardScaler\n",
    "scaler = StandardScaler()\n",
    "scaler.fit(project_data['price'].values.reshape(-1, 1))\n",
    "project_data['std_price']=scaler.transform(project_data['price'].values.reshape(-1, 1) )"
   ]
  },
  {
   "cell_type": "markdown",
   "metadata": {},
   "source": [
    "## Applying MinMaxScaler"
   ]
  },
  {
   "cell_type": "code",
   "execution_count": 30,
   "metadata": {},
   "outputs": [],
   "source": [
    "from sklearn.preprocessing import MinMaxScaler\n",
    "\n",
    "scaler = MinMaxScaler()\n",
    "scaler.fit(project_data['price'].values.reshape(-1, 1))\n",
    "project_data['nrm_price']=scaler.transform(project_data['price'].values.reshape(-1, 1))"
   ]
  }
 ],
 "metadata": {
  "interpreter": {
   "hash": "b1a2a98cb31d52257092369825697ba7826d9e3ef1bc1b87a6889fc4dec61186"
  },
  "kernelspec": {
   "display_name": "Python 3.9.7 ('base')",
   "language": "python",
   "name": "python3"
  },
  "language_info": {
   "codemirror_mode": {
    "name": "ipython",
    "version": 3
   },
   "file_extension": ".py",
   "mimetype": "text/x-python",
   "name": "python",
   "nbconvert_exporter": "python",
   "pygments_lexer": "ipython3",
   "version": "3.9.7"
  },
  "orig_nbformat": 4
 },
 "nbformat": 4,
 "nbformat_minor": 2
}
